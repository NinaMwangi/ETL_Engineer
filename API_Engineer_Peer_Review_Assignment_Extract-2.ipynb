{
 "cells": [
  {
   "cell_type": "markdown",
   "metadata": {},
   "source": [
    "<p style=\"text-align:center\">\n",
    "    <a href=\"https://skills.network/?utm_medium=Exinfluencer&utm_source=Exinfluencer&utm_content=000026UJ&utm_term=10006555&utm_id=NA-SkillsNetwork-Channel-SkillsNetworkCoursesIBMDeveloperSkillsNetworkPY0221ENSkillsNetwork899-2023-01-01\">\n",
    "    <img src=\"https://cf-courses-data.s3.us.cloud-object-storage.appdomain.cloud/assets/logos/SN_web_lightmode.png\" width=\"200\" alt=\"Skills Network Logo\"  />\n",
    "    </a>\n",
    "</p>\n"
   ]
  },
  {
   "cell_type": "markdown",
   "metadata": {},
   "source": [
    "# Peer Review Assignment - Data Engineer - Extract API Data\n"
   ]
  },
  {
   "cell_type": "markdown",
   "metadata": {},
   "source": [
    "Estimated time needed: **20** minutes\n"
   ]
  },
  {
   "cell_type": "markdown",
   "metadata": {},
   "source": [
    "## Objectives\n",
    "\n",
    "In this part you will:\n",
    "\n",
    "-   Collect exchange rate data using an API\n",
    "-   Store the data as a CSV\n"
   ]
  },
  {
   "cell_type": "markdown",
   "metadata": {},
   "source": [
    "For this lab, we are going to be using Python and several Python libraries. Some of these libraries might be installed in your lab environment or in SN Labs. Others may need to be installed by you. The cells below will install these libraries when executed.\n"
   ]
  },
  {
   "cell_type": "code",
   "execution_count": 1,
   "metadata": {},
   "outputs": [],
   "source": [
    "#!mamba install pandas==1.3.3 -y\n",
    "#!mamba install requests==2.26.0 -y"
   ]
  },
  {
   "cell_type": "markdown",
   "metadata": {},
   "source": [
    "## Imports\n",
    "\n",
    "Import any additional libraries you may need here.\n"
   ]
  },
  {
   "cell_type": "code",
   "execution_count": 2,
   "metadata": {},
   "outputs": [
    {
     "name": "stdout",
     "output_type": "stream",
     "text": [
      "Requirement already satisfied: requests in /Library/Frameworks/Python.framework/Versions/3.11/lib/python3.11/site-packages (2.31.0)\n",
      "Requirement already satisfied: charset-normalizer<4,>=2 in /Library/Frameworks/Python.framework/Versions/3.11/lib/python3.11/site-packages (from requests) (3.2.0)\n",
      "Requirement already satisfied: idna<4,>=2.5 in /Users/nina/Library/Python/3.11/lib/python/site-packages (from requests) (3.4)\n",
      "Requirement already satisfied: urllib3<3,>=1.21.1 in /Library/Frameworks/Python.framework/Versions/3.11/lib/python3.11/site-packages (from requests) (2.0.5)\n",
      "Requirement already satisfied: certifi>=2017.4.17 in /Library/Frameworks/Python.framework/Versions/3.11/lib/python3.11/site-packages (from requests) (2023.7.22)\n",
      "Note: you may need to restart the kernel to use updated packages.\n"
     ]
    }
   ],
   "source": [
    "%pip install requests\n",
    "import requests\n",
    "import pandas as pd"
   ]
  },
  {
   "cell_type": "markdown",
   "metadata": {},
   "source": [
    "## Extract Data Using an API\n"
   ]
  },
  {
   "cell_type": "markdown",
   "metadata": {},
   "source": [
    "Using ExchangeRate-API we will extract currency exchange rate data. Use the below steps to get the access key and to get the data. \n",
    "1. Open the url : https://exchangeratesapi.io/ and click on **Get Free API Key**. \n",
    "2. Subscribe for Free plan and Sign-in with the Google Account. \n",
    "3. Once the account is created you will be redirected to https://apilayer.com website.\n",
    "2. Now, click on the **user icon** and click **Account** as shown below:\n",
    "\n",
    "<img src=\"https://cf-courses-data.s3.us.cloud-object-storage.appdomain.cloud/IBMDeveloperSkillsNetwork-PY0221EN-SkillsNetwork/labs/module%206/Final%20Assignment/Images/account.png\">\n",
    "\n",
    "3. Scroll down and you will get the API Key section. Copy the API key and use in the url in Question 1.\n"
   ]
  },
  {
   "cell_type": "markdown",
   "metadata": {},
   "source": [
    "### Call the API\n",
    "\n",
    " <b> Question 1</b> Using the `requests` library call the endpoint given above and save the text, remember the first few characters of the output: \n"
   ]
  },
  {
   "cell_type": "code",
   "execution_count": 3,
   "metadata": {},
   "outputs": [
    {
     "name": "stdout",
     "output_type": "stream",
     "text": [
      "Response text saved successfully\n",
      "{\"success\":true,\"timestamp\":1695213663,\"base\":\"EUR\",\"date\":\"2023-09-20\",\"rates\":{\"AED\":3.927768,\"AFN\":84.345469,\"ALL\":106.256498,\"AMD\":413.15762,\"ANG\":1.928211,\"AOA\":888.124642,\"ARS\":374.250121,\"AUD\":1.649573,\"AWG\":1.924897,\"AZN\":1.821687,\"BAM\":1.955,\"BBD\":2.160216,\"BDT\":117.421927,\"BGN\":1.954011,\"BHD\":0.403145,\"BIF\":3031.658824,\"BMD\":1.069387,\"BND\":1.458503,\"BOB\":7.392973,\"BRL\":5.193161,\"BSD\":1.069862,\"BTC\":3.9526294e-5,\"BTN\":89.05614,\"BWP\":14.586028,\"BYN\":2.700594,\"BYR\":20959.988878,\"BZD\":2.156617,\"CAD\":1.436454,\"CDF\":2603.957302,\"CHF\":0.959363,\"CLF\":0.034297,\"CLP\":946.375459,\"CNY\":7.802996,\"COP\":4203.739647,\"CRC\":568.367308,\"CUC\":1.069387,\"CUP\":28.33876,\"CVE\":110.219875,\"CZK\":24.395905,\"DJF\":190.502008,\"DKK\":7.452881,\"DOP\":60.664596,\"DZD\":146.52319,\"EGP\":33.042998,\"ERN\":16.040808,\"ETB\":59.164878,\"EUR\":1,\"FJD\":2.414033,\"FKP\":0.863084,\"GBP\":0.864536,\"GEL\":2.839196,\"GGP\":0.863084,\"GHS\":12.331951,\"GIP\":0.863084,\"GMD\":65.949374,\"GNF\":9187.2387,\"GTQ\":8.414555,\"GYD\":223.831037,\"HKD\":8.365976,\"HNL\":26.365206,\"HRK\":7.50144,\"HTG\":143.901086,\"HUF\":383.701518,\"IDR\":16414.023944,\"ILS\":4.072088,\"IMP\":0.863084,\"INR\":88.847949,\"IQD\":1401.226331,\"IRR\":45184.281966,\"ISK\":145.297384,\"JEP\":0.863084,\"JMD\":165.522234,\"JOD\":0.757872,\"JPY\":158.158123,\"KES\":157.524295,\"KGS\":94.86526,\"KHR\":4408.195263,\"KMF\":492.98713,\"KPW\":962.421399,\"KRW\":1419.633029,\"KWD\":0.330163,\"KYD\":0.891635,\"KZT\":507.012427,\"LAK\":21457.215311,\"LBP\":16080.816435,\"LKR\":347.737635,\"LRD\":199.445907,\"LSL\":20.243496,\"LTL\":3.157623,\"LVL\":0.646862,\"LYD\":5.204869,\"MAD\":10.953416,\"MDL\":19.328087,\"MGA\":4847.015608,\"MKD\":61.61916,\"MMK\":2246.780157,\"MNT\":3714.593915,\"MOP\":8.620988,\"MRO\":381.771042,\"MUR\":47.976675,\"MVR\":16.4709,\"MWK\":1183.676656,\"MXN\":18.21129,\"MYR\":5.010616,\"MZN\":67.638686,\"NAD\":20.243426,\"NGN\":830.060023,\"NIO\":39.143974,\"NOK\":11.484652,\"NPR\":142.489664,\"NZD\":1.793902,\"OMR\":0.411686,\"PAB\":1.069862,\"PEN\":3.962478,\"PGK\":3.945385,\"PHP\":60.610196,\"PKR\":310.274572,\"PLN\":4.644509,\"PYG\":7784.740093,\"QAR\":3.893643,\"RON\":4.971799,\"RSD\":117.286078,\"RUB\":103.5114,\"RWF\":1282.974744,\"SAR\":4.011538,\"SBD\":9.003011,\"SCR\":14.182835,\"SDG\":642.283569,\"SEK\":11.872994,\"SGD\":1.457484,\"SHP\":1.301177,\"SLE\":23.939291,\"SLL\":21120.396683,\"SOS\":609.018387,\"SSP\":642.701364,\"SRD\":41.076769,\"STD\":22134.155701,\"SYP\":13903.83654,\"SZL\":20.222721,\"THB\":38.539611,\"TJS\":11.752988,\"TMT\":3.753549,\"TND\":3.377113,\"TOP\":2.554556,\"TRY\":28.915479,\"TTD\":7.25403,\"TWD\":34.218786,\"TZS\":2678.81508,\"UAH\":39.513423,\"UGX\":4006.359777,\"USD\":1.069387,\"UYU\":40.813291,\"UZS\":13018.670093,\"VEF\":3595317.586693,\"VES\":36.117328,\"VND\":25975.414789,\"VUV\":129.970935,\"WST\":2.933292,\"XAF\":655.688558,\"XAG\":0.045876,\"XAU\":0.000554,\"XCD\":2.890072,\"XDR\":0.811368,\"XOF\":655.688558,\"XPF\":120.011955,\"YER\":267.747827,\"ZAR\":20.149288,\"ZMK\":9625.764853,\"ZMW\":22.280878,\"ZWL\":344.342238}}\n"
     ]
    }
   ],
   "source": [
    "# Write your code here\n",
    "url = \"http://api.exchangeratesapi.io/v1/latest?base=EUR&access_key=e5c30d58671d02fd0e1d60c3b50da684\"#Make sure to change ******* to your APIkey.\n",
    "\n",
    "response = requests.get(url)\n",
    "\n",
    "if response.status_code == 200:\n",
    "    response_text = response.text\n",
    "    print('Response text saved successfully')\n",
    "\n",
    "else:\n",
    "    print(f\"Response failed with status code {response.status_code}.\")\n",
    "\n",
    "print(response_text)"
   ]
  },
  {
   "cell_type": "markdown",
   "metadata": {},
   "source": [
    "### Save as DataFrame\n",
    "\n",
    " <b> Question 2</b>  Using the data gathered turn it into a `pandas` dataframe. The dataframe should have the Currency as the index and `Rate` as their columns. Make sure to drop unnecessary columns.\n"
   ]
  },
  {
   "cell_type": "code",
   "execution_count": 4,
   "metadata": {},
   "outputs": [
    {
     "name": "stdout",
     "output_type": "stream",
     "text": [
      "           Rates\n",
      "AED     3.927768\n",
      "AFN    84.345469\n",
      "ALL   106.256498\n",
      "AMD   413.157620\n",
      "ANG     1.928211\n",
      "..           ...\n",
      "YER   267.747827\n",
      "ZAR    20.149288\n",
      "ZMK  9625.764853\n",
      "ZMW    22.280878\n",
      "ZWL   344.342238\n",
      "\n",
      "[170 rows x 1 columns]\n"
     ]
    }
   ],
   "source": [
    "url = \"http://api.exchangeratesapi.io/v1/latest?base=EUR&access_key=e5c30d58671d02fd0e1d60c3b50da684\"#Make sure to change ******* to your APIkey.\n",
    "\n",
    "response = requests.get(url)\n",
    "\n",
    "if response.status_code == 200:\n",
    "    response_json = response.json()\n",
    "\n",
    "#get rates and store them in a dictionary\n",
    "rates = response_json.get('rates', {})\n",
    "#converting the rates dictionary into a pandas dataframe\n",
    "df = pd.DataFrame(list(rates.items()), columns=[\"Currency\", \"Rates\"])\n",
    "#Setting the currency column as the index\n",
    "df.set_index(\"Currency\", inplace=True)\n",
    "#Renaming the columns to Rate\n",
    "df.rename(columns={\"Rates\":\"Rates\"}, inplace=True)\n",
    "#Removing the currency heading\n",
    "df = df.rename_axis(None)\n",
    "print(df)\n"
   ]
  },
  {
   "cell_type": "markdown",
   "metadata": {},
   "source": [
    "### Load the Data\n",
    "\n",
    "Using the dataframe save it as a CSV names `exchange_rates_1.csv`.\n"
   ]
  },
  {
   "cell_type": "code",
   "execution_count": 5,
   "metadata": {},
   "outputs": [
    {
     "data": {
      "text/html": [
       "<div>\n",
       "<style scoped>\n",
       "    .dataframe tbody tr th:only-of-type {\n",
       "        vertical-align: middle;\n",
       "    }\n",
       "\n",
       "    .dataframe tbody tr th {\n",
       "        vertical-align: top;\n",
       "    }\n",
       "\n",
       "    .dataframe thead th {\n",
       "        text-align: right;\n",
       "    }\n",
       "</style>\n",
       "<table border=\"1\" class=\"dataframe\">\n",
       "  <thead>\n",
       "    <tr style=\"text-align: right;\">\n",
       "      <th></th>\n",
       "      <th>Rates</th>\n",
       "    </tr>\n",
       "  </thead>\n",
       "  <tbody>\n",
       "    <tr>\n",
       "      <th>AED</th>\n",
       "      <td>3.927768</td>\n",
       "    </tr>\n",
       "    <tr>\n",
       "      <th>AFN</th>\n",
       "      <td>84.345469</td>\n",
       "    </tr>\n",
       "    <tr>\n",
       "      <th>ALL</th>\n",
       "      <td>106.256498</td>\n",
       "    </tr>\n",
       "    <tr>\n",
       "      <th>AMD</th>\n",
       "      <td>413.157620</td>\n",
       "    </tr>\n",
       "    <tr>\n",
       "      <th>ANG</th>\n",
       "      <td>1.928211</td>\n",
       "    </tr>\n",
       "  </tbody>\n",
       "</table>\n",
       "</div>"
      ],
      "text/plain": [
       "          Rates\n",
       "AED    3.927768\n",
       "AFN   84.345469\n",
       "ALL  106.256498\n",
       "AMD  413.157620\n",
       "ANG    1.928211"
      ]
     },
     "execution_count": 5,
     "metadata": {},
     "output_type": "execute_result"
    }
   ],
   "source": [
    "# Save the Dataframe\n",
    "df.to_csv(\"exchange_rates_1.csv\")\n",
    "df.head()"
   ]
  },
  {
   "cell_type": "markdown",
   "metadata": {},
   "source": [
    "Your CSV should be in this format with more currencies\n",
    "\n",
    "| | Rates |\n",
    "| ------- | ------- |\n",
    "|  AED| 4.398618    |\n",
    "|  AFN| 92.917693   |  \n",
    "|  ALL| 123.099093  |\n",
    "|  AMD| 621.935674  |\n",
    "|  ANG| 2.149648    | \n"
   ]
  },
  {
   "cell_type": "markdown",
   "metadata": {},
   "source": [
    "## Authors\n"
   ]
  },
  {
   "cell_type": "markdown",
   "metadata": {},
   "source": [
    "Ramesh Sannareddy, Joseph Santarcangelo and Azim Hirjani\n"
   ]
  },
  {
   "cell_type": "markdown",
   "metadata": {},
   "source": [
    "### Other Contributors\n"
   ]
  },
  {
   "cell_type": "markdown",
   "metadata": {},
   "source": [
    "Rav Ahuja\n"
   ]
  },
  {
   "cell_type": "markdown",
   "metadata": {},
   "source": [
    "## Change Log\n"
   ]
  },
  {
   "cell_type": "markdown",
   "metadata": {},
   "source": [
    "| Date (YYYY-MM-DD) | Version | Changed By        | Change Description                 |\n",
    "| ----------------- | ------- | ----------------- | ---------------------------------- |\n",
    "| 2022-05-06        | 0.3     | Malika            | Updated instructions to get the API and the url|\n",
    "| 2021-04-15        | 0.2     | Malika            | Updated the lab from USD to EUR    |\n",
    "| 2020-11-25        | 0.1     | Ramesh Sannareddy | Created initial version of the lab |\n"
   ]
  },
  {
   "cell_type": "markdown",
   "metadata": {},
   "source": [
    " Copyright © 2020 IBM Corporation. This notebook and its source code are released under the terms of the [MIT License](https://cognitiveclass.ai/mit-license?utm_medium=Exinfluencer&utm_source=Exinfluencer&utm_content=000026UJ&utm_term=10006555&utm_id=NA-SkillsNetwork-Channel-SkillsNetworkCoursesIBMDeveloperSkillsNetworkPY0221ENSkillsNetwork899-2023-01-01&cm_mmc=Email_Newsletter-_-Developer_Ed%2BTech-_-WW_WW-_-SkillsNetwork-Courses-IBM-DA0321EN-SkillsNetwork-21426264&cm_mmca1=000026UJ&cm_mmca2=10006555&cm_mmca3=M12345678&cvosrc=email.Newsletter.M12345678&cvo_campaign=000026UJ).\n"
   ]
  }
 ],
 "metadata": {
  "kernelspec": {
   "display_name": "Python 3 (ipykernel)",
   "language": "python",
   "name": "python3"
  },
  "language_info": {
   "codemirror_mode": {
    "name": "ipython",
    "version": 3
   },
   "file_extension": ".py",
   "mimetype": "text/x-python",
   "name": "python",
   "nbconvert_exporter": "python",
   "pygments_lexer": "ipython3",
   "version": "3.11.1"
  }
 },
 "nbformat": 4,
 "nbformat_minor": 4
}
